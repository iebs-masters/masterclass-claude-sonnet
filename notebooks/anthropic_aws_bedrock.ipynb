{
 "cells": [
  {
   "cell_type": "markdown",
   "metadata": {},
   "source": [
    "# Usar Claude Sonnet API con Amazon Bedrock (Anthropic SDK)"
   ]
  },
  {
   "cell_type": "code",
   "execution_count": 1,
   "metadata": {},
   "outputs": [
    {
     "name": "stdout",
     "output_type": "stream",
     "text": [
      "Requirement already satisfied: anthropic[bedrock] in c:\\users\\fcotan\\appdata\\local\\anaconda3\\lib\\site-packages (0.45.2)\n",
      "Requirement already satisfied: anyio<5,>=3.5.0 in c:\\users\\fcotan\\appdata\\local\\anaconda3\\lib\\site-packages (from anthropic[bedrock]) (3.5.0)\n",
      "Requirement already satisfied: distro<2,>=1.7.0 in c:\\users\\fcotan\\appdata\\local\\anaconda3\\lib\\site-packages (from anthropic[bedrock]) (1.9.0)\n",
      "Requirement already satisfied: httpx<1,>=0.23.0 in c:\\users\\fcotan\\appdata\\local\\anaconda3\\lib\\site-packages (from anthropic[bedrock]) (0.27.0)\n",
      "Requirement already satisfied: jiter<1,>=0.4.0 in c:\\users\\fcotan\\appdata\\local\\anaconda3\\lib\\site-packages (from anthropic[bedrock]) (0.8.2)\n",
      "Requirement already satisfied: pydantic<3,>=1.9.0 in c:\\users\\fcotan\\appdata\\local\\anaconda3\\lib\\site-packages (from anthropic[bedrock]) (2.10.5)\n",
      "Requirement already satisfied: sniffio in c:\\users\\fcotan\\appdata\\local\\anaconda3\\lib\\site-packages (from anthropic[bedrock]) (1.3.1)\n",
      "Requirement already satisfied: typing-extensions<5,>=4.10 in c:\\users\\fcotan\\appdata\\local\\anaconda3\\lib\\site-packages (from anthropic[bedrock]) (4.12.2)\n",
      "Requirement already satisfied: boto3>=1.28.57 in c:\\users\\fcotan\\appdata\\local\\anaconda3\\lib\\site-packages (from anthropic[bedrock]) (1.35.86)\n",
      "Requirement already satisfied: botocore>=1.31.57 in c:\\users\\fcotan\\appdata\\local\\anaconda3\\lib\\site-packages (from anthropic[bedrock]) (1.35.86)\n",
      "Requirement already satisfied: idna>=2.8 in c:\\users\\fcotan\\appdata\\local\\anaconda3\\lib\\site-packages (from anyio<5,>=3.5.0->anthropic[bedrock]) (3.4)\n",
      "Requirement already satisfied: jmespath<2.0.0,>=0.7.1 in c:\\users\\fcotan\\appdata\\local\\anaconda3\\lib\\site-packages (from boto3>=1.28.57->anthropic[bedrock]) (0.10.0)\n",
      "Requirement already satisfied: s3transfer<0.11.0,>=0.10.0 in c:\\users\\fcotan\\appdata\\local\\anaconda3\\lib\\site-packages (from boto3>=1.28.57->anthropic[bedrock]) (0.10.4)\n",
      "Requirement already satisfied: python-dateutil<3.0.0,>=2.1 in c:\\users\\fcotan\\appdata\\local\\anaconda3\\lib\\site-packages (from botocore>=1.31.57->anthropic[bedrock]) (2.8.2)\n",
      "Requirement already satisfied: urllib3!=2.2.0,<3,>=1.25.4 in c:\\users\\fcotan\\appdata\\local\\anaconda3\\lib\\site-packages (from botocore>=1.31.57->anthropic[bedrock]) (2.2.3)\n",
      "Requirement already satisfied: certifi in c:\\users\\fcotan\\appdata\\local\\anaconda3\\lib\\site-packages (from httpx<1,>=0.23.0->anthropic[bedrock]) (2023.7.22)\n",
      "Requirement already satisfied: httpcore==1.* in c:\\users\\fcotan\\appdata\\local\\anaconda3\\lib\\site-packages (from httpx<1,>=0.23.0->anthropic[bedrock]) (1.0.5)\n",
      "Requirement already satisfied: h11<0.15,>=0.13 in c:\\users\\fcotan\\appdata\\local\\anaconda3\\lib\\site-packages (from httpcore==1.*->httpx<1,>=0.23.0->anthropic[bedrock]) (0.14.0)\n",
      "Requirement already satisfied: annotated-types>=0.6.0 in c:\\users\\fcotan\\appdata\\local\\anaconda3\\lib\\site-packages (from pydantic<3,>=1.9.0->anthropic[bedrock]) (0.7.0)\n",
      "Requirement already satisfied: pydantic-core==2.27.2 in c:\\users\\fcotan\\appdata\\local\\anaconda3\\lib\\site-packages (from pydantic<3,>=1.9.0->anthropic[bedrock]) (2.27.2)\n",
      "Requirement already satisfied: six>=1.5 in c:\\users\\fcotan\\appdata\\local\\anaconda3\\lib\\site-packages (from python-dateutil<3.0.0,>=2.1->botocore>=1.31.57->anthropic[bedrock]) (1.16.0)\n"
     ]
    },
    {
     "name": "stderr",
     "output_type": "stream",
     "text": [
      "\n",
      "[notice] A new release of pip is available: 24.3.1 -> 25.0\n",
      "[notice] To update, run: python.exe -m pip install --upgrade pip\n"
     ]
    }
   ],
   "source": [
    "!pip install -U anthropic[bedrock]"
   ]
  },
  {
   "cell_type": "code",
   "execution_count": 2,
   "metadata": {},
   "outputs": [
    {
     "data": {
      "text/plain": [
       "True"
      ]
     },
     "execution_count": 2,
     "metadata": {},
     "output_type": "execute_result"
    }
   ],
   "source": [
    "from dotenv import load_dotenv\n",
    "\n",
    "load_dotenv()"
   ]
  },
  {
   "cell_type": "code",
   "execution_count": null,
   "metadata": {},
   "outputs": [
    {
     "name": "stdout",
     "output_type": "stream",
     "text": [
      "Message(id='msg_bdrk_01MMc9QmnAAtdnGBNZBiB2xa', content=[TextBlock(citations=None, text='Hello! How can I assist you today?', type='text')], model='claude-3-sonnet-20240229', role='assistant', stop_reason='end_turn', stop_sequence=None, type='message', usage=Usage(cache_creation_input_tokens=None, cache_read_input_tokens=None, input_tokens=9, output_tokens=12))\n"
     ]
    },
    {
     "ename": "",
     "evalue": "",
     "output_type": "error",
     "traceback": [
      "\u001b[1;31mThe Kernel crashed while executing code in the current cell or a previous cell. \n",
      "\u001b[1;31mPlease review the code in the cell(s) to identify a possible cause of the failure. \n",
      "\u001b[1;31mClick <a href='https://aka.ms/vscodeJupyterKernelCrash'>here</a> for more info. \n",
      "\u001b[1;31mView Jupyter <a href='command:jupyter.viewOutput'>log</a> for further details."
     ]
    }
   ],
   "source": [
    "from anthropic import AnthropicBedrock\n",
    "\n",
    "client = AnthropicBedrock(aws_region=\"eu-west-3\")\n",
    "\n",
    "message = client.messages.create(\n",
    "    max_tokens=1024,\n",
    "    messages=[\n",
    "        {\n",
    "            \"role\": \"user\",\n",
    "            \"content\": \"Hello!\",\n",
    "        }\n",
    "    ],\n",
    "    model=\"anthropic.claude-3-sonnet-20240229-v1:0\",\n",
    ")\n",
    "print(message)"
   ]
  },
  {
   "cell_type": "markdown",
   "metadata": {},
   "source": [
    "# Usar Claude Sonnet API con Amazon Bedrock (Boto3 SDK)"
   ]
  },
  {
   "cell_type": "code",
   "execution_count": 5,
   "metadata": {},
   "outputs": [
    {
     "name": "stdout",
     "output_type": "stream",
     "text": [
      "Requirement already satisfied: boto3 in c:\\users\\fcotan\\appdata\\local\\anaconda3\\lib\\site-packages (1.35.86)\n",
      "Requirement already satisfied: botocore<1.36.0,>=1.35.86 in c:\\users\\fcotan\\appdata\\local\\anaconda3\\lib\\site-packages (from boto3) (1.35.86)\n",
      "Requirement already satisfied: jmespath<2.0.0,>=0.7.1 in c:\\users\\fcotan\\appdata\\local\\anaconda3\\lib\\site-packages (from boto3) (0.10.0)\n",
      "Requirement already satisfied: s3transfer<0.11.0,>=0.10.0 in c:\\users\\fcotan\\appdata\\local\\anaconda3\\lib\\site-packages (from boto3) (0.10.4)\n",
      "Requirement already satisfied: python-dateutil<3.0.0,>=2.1 in c:\\users\\fcotan\\appdata\\local\\anaconda3\\lib\\site-packages (from botocore<1.36.0,>=1.35.86->boto3) (2.8.2)\n",
      "Requirement already satisfied: urllib3!=2.2.0,<3,>=1.25.4 in c:\\users\\fcotan\\appdata\\local\\anaconda3\\lib\\site-packages (from botocore<1.36.0,>=1.35.86->boto3) (2.2.3)\n",
      "Requirement already satisfied: six>=1.5 in c:\\users\\fcotan\\appdata\\local\\anaconda3\\lib\\site-packages (from python-dateutil<3.0.0,>=2.1->botocore<1.36.0,>=1.35.86->boto3) (1.16.0)\n"
     ]
    },
    {
     "name": "stderr",
     "output_type": "stream",
     "text": [
      "\n",
      "[notice] A new release of pip is available: 24.3.1 -> 25.0\n",
      "[notice] To update, run: python.exe -m pip install --upgrade pip\n"
     ]
    }
   ],
   "source": [
    "!pip install boto3"
   ]
  },
  {
   "cell_type": "code",
   "execution_count": 6,
   "metadata": {},
   "outputs": [],
   "source": [
    "import boto3\n",
    "\n",
    "bedrock_client = boto3.client(\"bedrock-runtime\", region_name=\"eu-west-3\")"
   ]
  },
  {
   "cell_type": "code",
   "execution_count": 9,
   "metadata": {},
   "outputs": [
    {
     "name": "stdout",
     "output_type": "stream",
     "text": [
      "{'ResponseMetadata': {'RequestId': '19c7f384-4f05-48c9-acc1-72b9b10bb457', 'HTTPStatusCode': 200, 'HTTPHeaders': {'date': 'Tue, 11 Feb 2025 13:46:30 GMT', 'content-type': 'application/json', 'content-length': '1240', 'connection': 'keep-alive', 'x-amzn-requestid': '19c7f384-4f05-48c9-acc1-72b9b10bb457'}, 'RetryAttempts': 0}, 'output': {'message': {'role': 'assistant', 'content': [{'text': 'Un programa \"Hello World\" es un programa informático muy simple que se utiliza a menudo como primer ejemplo para aprender un nuevo lenguaje de programación. Básicamente, el programa imprime o muestra la frase \"Hello, World!\" (o una variante similar) en la salida estándar, que suele ser la consola o una ventana de texto.\\n\\nEl objetivo principal de este programa es familiarizarse con la sintaxis básica del lenguaje de programación, así como con el proceso de creación, compilación (si es necesario) y ejecución de un programa. A pesar de su simplicidad, el \"Hello World\" permite al programador principiante verificar que su entorno de desarrollo está configurado correctamente y comprender el flujo básico de un programa.\\n\\nAdemás de ser un primer paso en el aprendizaje de la programación, el \"Hello World\" también se utiliza a menudo como una prueba para verificar la instalación correcta de un nuevo entorno de programación o para probar la compatibilidad de una biblioteca o un marco de trabajo con un lenguaje específico.'}]}}, 'stopReason': 'end_turn', 'usage': {'inputTokens': 21, 'outputTokens': 257, 'totalTokens': 278}, 'metrics': {'latencyMs': 5809}}\n"
     ]
    }
   ],
   "source": [
    "from botocore.exceptions import ClientError\n",
    "\n",
    "model_id = \"anthropic.claude-3-sonnet-20240229-v1:0\"\n",
    "\n",
    "user_message = \"Describe brevemente qué es un programa 'Hello World'.\"\n",
    "\n",
    "conversation = [\n",
    "    {\n",
    "        \"role\": \"user\",\n",
    "        \"content\": [{\"text\": user_message}],\n",
    "    }\n",
    "]\n",
    "\n",
    "try:\n",
    "    response = bedrock_client.converse(\n",
    "        modelId=model_id,\n",
    "        messages=conversation,\n",
    "        inferenceConfig={\"maxTokens\": 512, \"temperature\": 0.7, \"topP\": 0.9},\n",
    "    )\n",
    "    \n",
    "    response_text = response[\"output\"][\"message\"][\"content\"][0][\"text\"]\n",
    "    print(response_text)\n",
    "\n",
    "except ClientError as e:\n",
    "    print(f\"ERROR: No se pudo invocar el modelo '{model_id}'. Razón: {e}\")\n"
   ]
  }
 ],
 "metadata": {
  "kernelspec": {
   "display_name": "base",
   "language": "python",
   "name": "python3"
  },
  "language_info": {
   "codemirror_mode": {
    "name": "ipython",
    "version": 3
   },
   "file_extension": ".py",
   "mimetype": "text/x-python",
   "name": "python",
   "nbconvert_exporter": "python",
   "pygments_lexer": "ipython3",
   "version": "3.11.5"
  }
 },
 "nbformat": 4,
 "nbformat_minor": 2
}
