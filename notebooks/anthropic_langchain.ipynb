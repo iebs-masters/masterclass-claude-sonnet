{
 "cells": [
  {
   "cell_type": "code",
   "execution_count": null,
   "metadata": {},
   "outputs": [],
   "source": [
    "!pip install langchain langchain-anthropic"
   ]
  },
  {
   "cell_type": "code",
   "execution_count": 2,
   "metadata": {},
   "outputs": [],
   "source": [
    "import os\n",
    "from dotenv import load_dotenv\n",
    "\n",
    "load_dotenv()\n",
    "\n",
    "api_key = os.getenv(\"ANTHROPIC_API_KEY\")\n",
    "\n",
    "if not api_key:\n",
    "    raise ValueError(\"La clave API de Anthropic no está configurada.\")\n"
   ]
  },
  {
   "cell_type": "code",
   "execution_count": null,
   "metadata": {},
   "outputs": [],
   "source": [
    "from langchain_anthropic import ChatAnthropic\n",
    "from langchain.prompts import ChatPromptTemplate\n",
    "\n",
    "chat = ChatAnthropic(\n",
    "    temperature=0.7,\n",
    "    model=\"claude-3-sonnet-20240229\",\n",
    "    api_key=api_key\n",
    ")\n",
    "\n",
    "system_message = \"Eres un asistente útil que traduce del {input_language} al {output_language}.\"\n",
    "human_message = \"{text}\"\n",
    "\n",
    "prompt = ChatPromptTemplate.from_messages([\n",
    "    (\"system\", system_message),\n",
    "    (\"human\", human_message)\n",
    "])\n",
    "\n",
    "chain = prompt | chat\n",
    "\n",
    "response = chain.invoke({\n",
    "    \"input_language\": \"español\",\n",
    "    \"output_language\": \"inglés\",\n",
    "    \"text\": \"Me encanta programar en Python.\"\n",
    "})\n",
    "\n",
    "print(response.content)\n"
   ]
  }
 ],
 "metadata": {
  "kernelspec": {
   "display_name": "base",
   "language": "python",
   "name": "python3"
  },
  "language_info": {
   "codemirror_mode": {
    "name": "ipython",
    "version": 3
   },
   "file_extension": ".py",
   "mimetype": "text/x-python",
   "name": "python",
   "nbconvert_exporter": "python",
   "pygments_lexer": "ipython3",
   "version": "3.11.5"
  }
 },
 "nbformat": 4,
 "nbformat_minor": 2
}
