{
 "cells": [
  {
   "cell_type": "code",
   "execution_count": null,
   "metadata": {},
   "outputs": [],
   "source": [
    "!pip install langchain-anthropic langgraph-checkpoint-sqlite"
   ]
  },
  {
   "cell_type": "code",
   "execution_count": null,
   "metadata": {},
   "outputs": [],
   "source": [
    "from dotenv import load_dotenv\n",
    "\n",
    "load_dotenv()"
   ]
  },
  {
   "cell_type": "code",
   "execution_count": 3,
   "metadata": {},
   "outputs": [],
   "source": [
    "from langchain_anthropic import ChatAnthropic\n",
    "\n",
    "personal_brand_strategy_builder_llm = ChatAnthropic(\n",
    "    model=\"claude-3-5-sonnet-20241022\",\n",
    "    temperature=0.5,\n",
    "    max_tokens=1024,\n",
    ")\n",
    "\n",
    "content_creator_llm = ChatAnthropic(\n",
    "    model=\"claude-3-5-sonnet-20241022\",\n",
    "    temperature=0.5,\n",
    "    max_tokens=1024,\n",
    ")\n"
   ]
  },
  {
   "cell_type": "code",
   "execution_count": 4,
   "metadata": {},
   "outputs": [],
   "source": [
    "import operator\n",
    "from typing import List\n",
    "from typing_extensions import TypedDict, Annotated\n",
    "from pydantic import BaseModel, Field\n",
    "\n",
    "class PersonalBrandStrategyBuilder(BaseModel):\n",
    "    strategy: str = Field(default=\"\", description=\"The strategy to use for the personal brand\")\n",
    "    target_audience: str = Field(default=\"\", description=\"The target audience for the personal brand\")\n",
    "    key_themes: str = Field(default=\"\", description=\"The key themes for the personal brand\")\n",
    "    topics: str = Field(default=\"\", description=\"The topics for the personal brand\")\n",
    "    tone: str = Field(default=\"\", description=\"The tone for the personal brand\")\n",
    "    voice: str = Field(default=\"\", description=\"The voice for the personal brand\")\n",
    "    personal_goals: str = Field(default=\"\", description=\"The personal goals for the personal brand\")\n",
    "\n",
    "class Ideas(BaseModel):\n",
    "    idea: str = Field(default = \"\", description=\"The idea for the post\")\n",
    "    links: List[str] = Field(default = [], description=\"The links for the post\")\n",
    "\n",
    "class ContentCreator(BaseModel):\n",
    "    post: str = Field(default = \"\", description=\"The post for the personal brand\")\n",
    "\n",
    "class State(TypedDict):\n",
    "    personal_brand_strategy: PersonalBrandStrategyBuilder\n",
    "    posts: Annotated[List[ContentCreator], operator.add]\n",
    "    human_feedback: str\n"
   ]
  },
  {
   "cell_type": "code",
   "execution_count": 5,
   "metadata": {},
   "outputs": [],
   "source": [
    "def dummy_node(state: State):\n",
    "    pass\n"
   ]
  },
  {
   "cell_type": "code",
   "execution_count": 6,
   "metadata": {},
   "outputs": [],
   "source": [
    "from langchain_core.messages import HumanMessage, SystemMessage\n",
    "\n",
    "personal_brand_strategy_instructions = \"\"\"\n",
    "You are tasked with creating a comprehensive strategy for my personal brand. Follow these instructions carefully:\n",
    "\n",
    "1. Review the personal goals of the personal brand:\n",
    "{personal_goals}\n",
    "\n",
    "2. Examine any human feedback that has been optionally provided to guide the creation of the personal brand:\n",
    "{human_feedback}\n",
    "\n",
    "3. Create a strategy that will help me achieve my personal goals.\n",
    "\n",
    "4. Define the target audience for the personal brand.\n",
    "\n",
    "5. Establish key themes and topics for the personal brand.\n",
    "\n",
    "6. Define the tone and voice of the personal brand.\n",
    "\"\"\"\n",
    "\n",
    "def create_personal_brand_strategy(state: State):\n",
    "    human_feedback = state['human_feedback']\n",
    "    personal_goals = state['personal_brand_strategy'].personal_goals\n",
    "\n",
    "    structured_llm = personal_brand_strategy_builder_llm.with_structured_output(PersonalBrandStrategyBuilder)\n",
    "\n",
    "    system_message = personal_brand_strategy_instructions.format(personal_goals=personal_goals, human_feedback=human_feedback)\n",
    "\n",
    "    personal_brand_strategy = structured_llm.invoke(\n",
    "        [SystemMessage(content=system_message)] + [HumanMessage(content=\"Generate a personal brand strategy based on the provided information.\")]\n",
    "    )\n",
    "    personal_brand_strategy.personal_goals = personal_goals\n",
    "\n",
    "    print(\"Personal Brand Strategy: \", personal_brand_strategy)\n",
    "\n",
    "    return {\n",
    "        'personal_brand_strategy': personal_brand_strategy\n",
    "    }\n"
   ]
  },
  {
   "cell_type": "code",
   "execution_count": 7,
   "metadata": {},
   "outputs": [],
   "source": [
    "content_creator_instructions = \"\"\"\n",
    "You are tasked with creating several tweets based on a given personal brand strategy and content ideas. The number of posts could vary depending on the number of ideas provided. Follow these instructions carefully:\n",
    "\n",
    "1. Personal brand strategy:\n",
    "{strategy}\n",
    "\n",
    "2. Examine any human feedback that has been optionally provided to guide the creation of the posts:\n",
    "{human_feedback}\n",
    "\n",
    "3. Target audience:\n",
    "{audience}\n",
    "\n",
    "4. Key themes:\n",
    "{key_themes}\n",
    "\n",
    "5. Tone:\n",
    "{tone}\n",
    "\n",
    "6. Voice:\n",
    "{voice}\n",
    "\n",
    "7. Personal objectives:\n",
    "{personal_objectives}\n",
    "\"\"\"\n",
    "\n",
    "def create_content_creator(state: State):\n",
    "    strategy = state['personal_brand_strategy'].strategy\n",
    "    audience = state['personal_brand_strategy'].target_audience\n",
    "    key_themes = state['personal_brand_strategy'].key_themes\n",
    "    tone = state['personal_brand_strategy'].tone\n",
    "    voice = state['personal_brand_strategy'].voice\n",
    "    personal_objectives = state['personal_brand_strategy'].personal_goals\n",
    "    human_feedback = state['human_feedback']\n",
    "\n",
    "    print(\"Human Feedback: \", human_feedback)\n",
    "\n",
    "    structured_llm = content_creator_llm.with_structured_output(ContentCreator)\n",
    "\n",
    "    system_message = content_creator_instructions.format(strategy=strategy, audience=audience, key_themes=key_themes, tone=tone, voice=voice, personal_objectives=personal_objectives, human_feedback=human_feedback)\n",
    "\n",
    "    content_creator = structured_llm.invoke(\n",
    "        [SystemMessage(content=system_message)] + [HumanMessage(content=\"Create a tweet based on the provided information.\")]\n",
    "    )\n",
    "\n",
    "    posts = state['posts']\n",
    "    posts.append(content_creator)\n",
    "\n",
    "    return {\n",
    "        'posts': posts\n",
    "    }"
   ]
  },
  {
   "cell_type": "code",
   "execution_count": 8,
   "metadata": {},
   "outputs": [],
   "source": [
    "def repeat_task(state: State):\n",
    "    human_feedback = state.get(\"human_feedback\", \"\")\n",
    "    any_feedback = bool(human_feedback)\n",
    "\n",
    "    print(\"Human Feedback: \", human_feedback)\n",
    "    print(\"Human Feedback, falsy or truthy: \", any_feedback)\n",
    "\n",
    "    return any_feedback\n"
   ]
  },
  {
   "cell_type": "code",
   "execution_count": null,
   "metadata": {},
   "outputs": [],
   "source": [
    "from langgraph.graph import StateGraph, START, END\n",
    "\n",
    "graph_builder = StateGraph(State)\n",
    "\n",
    "graph_builder.add_node(\"create_personal_brand_strategy\", create_personal_brand_strategy)\n",
    "graph_builder.add_node(\"create_content\", create_content_creator)\n",
    "graph_builder.add_node(\"dummy_create_personal_brand_strategy\", dummy_node)\n",
    "graph_builder.add_node(\"dummy_create_content\", dummy_node)\n",
    "\n",
    "graph_builder.add_conditional_edges(\"dummy_create_personal_brand_strategy\", repeat_task, { True: \"create_personal_brand_strategy\", False: \"create_content\" })\n",
    "graph_builder.add_conditional_edges(\"dummy_create_content\", repeat_task, { True: \"create_content\", False: END })\n",
    "\n",
    "graph_builder.add_edge(START, \"create_personal_brand_strategy\")\n",
    "graph_builder.add_edge(\"create_personal_brand_strategy\", \"dummy_create_personal_brand_strategy\")\n",
    "graph_builder.add_edge(\"create_content\", \"dummy_create_content\")\n"
   ]
  },
  {
   "cell_type": "code",
   "execution_count": 10,
   "metadata": {},
   "outputs": [],
   "source": [
    "personal_brand_strategy = PersonalBrandStrategyBuilder()\n",
    "\n",
    "personal_brand_strategy.personal_goals = \"I am an engineer who wants to develop my personal brand. I have worked in several roles including Data Architect, Cloud Architect and CloudAdministrator. I want to teach others to develop better their careers. We will focus on creating tweets without images nor videos.\"\n",
    "\n",
    "initial_state = State(posts=[], personal_brand_strategy=personal_brand_strategy, human_feedback=\"\")\n"
   ]
  },
  {
   "cell_type": "code",
   "execution_count": 11,
   "metadata": {},
   "outputs": [],
   "source": [
    "from langgraph.checkpoint.memory import MemorySaver\n",
    "\n",
    "memory = MemorySaver()"
   ]
  },
  {
   "cell_type": "code",
   "execution_count": 12,
   "metadata": {},
   "outputs": [],
   "source": [
    "thread = { \"configurable\": { \"thread_id\": \"1\" } }\n",
    "\n",
    "graph = graph_builder.compile(checkpointer=memory, interrupt_before=[\"dummy_create_personal_brand_strategy\", \"dummy_create_content\"])\n"
   ]
  },
  {
   "cell_type": "code",
   "execution_count": null,
   "metadata": {},
   "outputs": [],
   "source": [
    "import sys\n",
    "\n",
    "num_interruptions = 3\n",
    "i = 0\n",
    "state_to_send = initial_state\n",
    "\n",
    "while i < num_interruptions:\n",
    "    for event in graph.stream(state_to_send, thread):\n",
    "        print(event)\n",
    "\n",
    "    state_to_send = None\n",
    "    sys.stdout.flush()\n",
    "\n",
    "    human_feedback = input(\"Any Feedback?: \")\n",
    "    graph.update_state(thread, { \"human_feedback\": human_feedback })\n",
    "\n",
    "    if bool(human_feedback):\n",
    "        num_interruptions += 1\n",
    "\n",
    "    i += 1"
   ]
  },
  {
   "cell_type": "code",
   "execution_count": null,
   "metadata": {},
   "outputs": [],
   "source": [
    "from IPython.display import Image\n",
    "\n",
    "display(Image(graph.get_graph().draw_mermaid_png()))"
   ]
  }
 ],
 "metadata": {
  "kernelspec": {
   "display_name": "base",
   "language": "python",
   "name": "python3"
  },
  "language_info": {
   "codemirror_mode": {
    "name": "ipython",
    "version": 3
   },
   "file_extension": ".py",
   "mimetype": "text/x-python",
   "name": "python",
   "nbconvert_exporter": "python",
   "pygments_lexer": "ipython3",
   "version": "3.11.5"
  }
 },
 "nbformat": 4,
 "nbformat_minor": 2
}
